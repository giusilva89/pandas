{
 "cells": [
  {
   "cell_type": "markdown",
   "metadata": {},
   "source": [
    "# Pandas"
   ]
  },
  {
   "cell_type": "markdown",
   "metadata": {},
   "source": [
    "Pandas is an open source library that's built on top of empire which is why we learned but PI first.\n",
    "\n",
    "Allows for fast analysis and data cleaning and preparation.\n",
    "\n",
    "A lot of people like to call pandas pythons version of Excel or if you're familiar with our Python's version of our data frames fun and pandas really excels in performance and productivity for the user. And this also has built in data visualization features which we'll learn about once he gets a python for data visualization Pandurs can also work with data from a wide variety of sources.\n",
    "\n",
    "You'll need to install Pandas by going to your command line or terminal and then use either Konda install pandas."
   ]
  },
  {
   "cell_type": "markdown",
   "metadata": {},
   "source": [
    "If you have the Anaconda distribution of Python or if you installed Python through a different method you can also use Pip install pandas.\n",
    "\n",
    "!pip install pandas\n",
    "\n",
    "!conda install pandas"
   ]
  },
  {
   "cell_type": "code",
   "execution_count": null,
   "metadata": {},
   "outputs": [],
   "source": []
  }
 ],
 "metadata": {
  "kernelspec": {
   "display_name": "Python 3",
   "language": "python",
   "name": "python3"
  },
  "language_info": {
   "codemirror_mode": {
    "name": "ipython",
    "version": 3
   },
   "file_extension": ".py",
   "mimetype": "text/x-python",
   "name": "python",
   "nbconvert_exporter": "python",
   "pygments_lexer": "ipython3",
   "version": "3.7.6"
  }
 },
 "nbformat": 4,
 "nbformat_minor": 4
}
